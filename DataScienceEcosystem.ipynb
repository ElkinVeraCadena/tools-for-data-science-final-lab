{
  "metadata": {
    "kernelspec": {
      "name": "python",
      "display_name": "Python (Pyodide)",
      "language": "python"
    },
    "language_info": {
      "codemirror_mode": {
        "name": "python",
        "version": 3
      },
      "file_extension": ".py",
      "mimetype": "text/x-python",
      "name": "python",
      "nbconvert_exporter": "python",
      "pygments_lexer": "ipython3",
      "version": "3.8"
    }
  },
  "nbformat_minor": 5,
  "nbformat": 4,
  "cells": [
    {
      "id": "99fdbf51-5ee5-4e29-9b05-ca350c8e0f19",
      "cell_type": "markdown",
      "source": "# Data Science Tools and Ecosystem",
      "metadata": {}
    },
    {
      "id": "f9e7727f-bec1-4872-b515-c18ed37a38ad",
      "cell_type": "markdown",
      "source": "In this notebook, Data Science Tools and Ecosystem are summarized.",
      "metadata": {}
    },
    {
      "id": "0f6b9916-7eb2-4f7e-a6d1-4d5e5ee40954",
      "cell_type": "markdown",
      "source": "**Objectives:**\n- List popular languages for Data Science\n- List popular libraries for Data Science\n- Table of popular IDEs for Data Science\n- Arithmetic expression in Python\n- Conversion from minutes to hours in Python",
      "metadata": {}
    },
    {
      "id": "027be4fa-e239-447c-94e8-73dcc2ad1e2c",
      "cell_type": "markdown",
      "source": "Some of the popular languages that Data Scientists use are:\n\n1. Python  \n2. R  \n3. SQL  \n4. Julia",
      "metadata": {}
    },
    {
      "id": "d9fd7805-a03d-41cc-ae4d-e0a3224ce5fe",
      "cell_type": "markdown",
      "source": "Some of the commonly used libraries used by Data Scientists include:\n1. Pandas\n2. Numpy\n3. Matplotlib\n4. Plotly",
      "metadata": {}
    },
    {
      "id": "34d23522-1cc1-44b2-bf92-c2097f99aec3",
      "cell_type": "markdown",
      "source": "| Data Science Tools       |\n|--------------------------|\n| Jupyter Notebook         |\n| RStudio                  |\n| Visual Studio Code       |",
      "metadata": {}
    },
    {
      "id": "b938a8a3-c87e-42a3-b6e7-ce57f4e5acce",
      "cell_type": "markdown",
      "source": "### Below are a few examples of evaluating arithmetic expressions in Python",
      "metadata": {}
    },
    {
      "id": "58744bce-e7b5-40f2-9166-3ec95f220b35",
      "cell_type": "code",
      "source": "# This a simple arithmetic expression to mutiply then add integers\n(3 * 4) + 5",
      "metadata": {
        "trusted": true
      },
      "outputs": [
        {
          "execution_count": 2,
          "output_type": "execute_result",
          "data": {
            "text/plain": "17"
          },
          "metadata": {}
        }
      ],
      "execution_count": 2
    },
    {
      "id": "398065c4-e939-4607-96da-e4e32d18346a",
      "cell_type": "code",
      "source": "# This will convert 200 minutes to hours by diving by 60\nminutes = 200\nhours = minutes / 60\nhours",
      "metadata": {
        "trusted": true
      },
      "outputs": [
        {
          "execution_count": 3,
          "output_type": "execute_result",
          "data": {
            "text/plain": "3.3333333333333335"
          },
          "metadata": {}
        }
      ],
      "execution_count": 3
    },
    {
      "id": "67ae810a-3f06-4c89-be89-f91e9d691feb",
      "cell_type": "markdown",
      "source": "## Author\nElkin Vera",
      "metadata": {}
    },
    {
      "id": "04867e37-dbb5-4be4-89a0-cc2965910e5c",
      "cell_type": "code",
      "source": "",
      "metadata": {
        "trusted": true
      },
      "outputs": [],
      "execution_count": null
    }
  ]
}